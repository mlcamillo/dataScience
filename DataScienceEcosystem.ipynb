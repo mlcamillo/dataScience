{
  "metadata": {
    "kernelspec": {
      "name": "python",
      "display_name": "Python (Pyodide)",
      "language": "python"
    },
    "language_info": {
      "codemirror_mode": {
        "name": "python",
        "version": 3
      },
      "file_extension": ".py",
      "mimetype": "text/x-python",
      "name": "python",
      "nbconvert_exporter": "python",
      "pygments_lexer": "ipython3",
      "version": "3.8"
    }
  },
  "nbformat_minor": 5,
  "nbformat": 4,
  "cells": [
    {
      "id": "55baaaf8-33f8-4ea0-bc57-fb5ee5a9b8be",
      "cell_type": "markdown",
      "source": "# Data Science Tools and Ecosystem",
      "metadata": {}
    },
    {
      "id": "1af37760-bd0f-43d9-a3c0-74b0d5170645",
      "cell_type": "markdown",
      "source": "Neste notebook, as Ferramentas e Ecossistema de Ciência de Dados são resumidos.",
      "metadata": {}
    },
    {
      "id": "989d1ba8-b79a-4ee9-bb1f-dea6f24b8f8b",
      "cell_type": "markdown",
      "source": "Algumas das linguagens populares que os Cientistas de Dados usam são:\n1. Python\n2. R\n3. SQL\n",
      "metadata": {}
    },
    {
      "id": "861f9dee-2008-49cd-91e9-32a395761423",
      "cell_type": "markdown",
      "source": "Algumas das bibliotecas comumente usadas por Cientistas de Dados incluem:\n1. Panda\n2. NumPy\n3. Scikit-learn",
      "metadata": {}
    },
    {
      "id": "c8a1a007-fd1d-4bbd-82e0-eab1a164e0f1",
      "cell_type": "markdown",
      "source": "|Ferramentas de Ciência de Dados|\n|------------|\n|Jupyter Notebook|\n|Apache Spark|\n|TensorFlow|",
      "metadata": {}
    },
    {
      "id": "6d96b535-9cbc-4072-8d54-3c2d5b1b89a0",
      "cell_type": "markdown",
      "source": "### Abaixo estão alguns exemplos de avaliação de expressões aritméticas em Python.\n5+3\n(5+3)-2\n5*3\n5/3\n",
      "metadata": {}
    },
    {
      "id": "3e1c9547-6756-45ee-8295-3fbfc2211b1e",
      "cell_type": "code",
      "source": "# Esta é uma expressão aritmética simples para multiplicar e depois adicionar inteiros\n(3*4)+5",
      "metadata": {
        "trusted": true
      },
      "outputs": [
        {
          "execution_count": 2,
          "output_type": "execute_result",
          "data": {
            "text/plain": "17"
          },
          "metadata": {}
        }
      ],
      "execution_count": 2
    },
    {
      "id": "a2b9a9a4-2a51-43f7-a9ab-ee4b084e6f8e",
      "cell_type": "code",
      "source": "#Isso converterá 200 minutos em horas dividindo por 60\n200/60",
      "metadata": {
        "trusted": true
      },
      "outputs": [
        {
          "execution_count": 3,
          "output_type": "execute_result",
          "data": {
            "text/plain": "3.3333333333333335"
          },
          "metadata": {}
        }
      ],
      "execution_count": 3
    },
    {
      "id": "791a7d07-cb52-458e-9788-0b2f016874c4",
      "cell_type": "code",
      "source": "",
      "metadata": {
        "trusted": true
      },
      "outputs": [],
      "execution_count": null
    }
  ]
}